{
  "nbformat": 4,
  "nbformat_minor": 0,
  "metadata": {
    "colab": {
      "provenance": [],
      "authorship_tag": "ABX9TyPuiSK21zqZNUrA9CrO3lY0",
      "include_colab_link": true
    },
    "kernelspec": {
      "name": "python3",
      "display_name": "Python 3"
    },
    "language_info": {
      "name": "python"
    }
  },
  "cells": [
    {
      "cell_type": "markdown",
      "metadata": {
        "id": "view-in-github",
        "colab_type": "text"
      },
      "source": [
        "<a href=\"https://colab.research.google.com/github/BenRyan-8/DataAcquisition_CA/blob/main/watches.ipynb\" target=\"_parent\"><img src=\"https://colab.research.google.com/assets/colab-badge.svg\" alt=\"Open In Colab\"/></a>"
      ]
    },
    {
      "cell_type": "markdown",
      "source": [
        "# Watches DB"
      ],
      "metadata": {
        "id": "28X4Je_OspWU"
      }
    },
    {
      "cell_type": "code",
      "source": [],
      "metadata": {
        "id": "17Ea6is2sooR"
      },
      "execution_count": null,
      "outputs": []
    }
  ]
}